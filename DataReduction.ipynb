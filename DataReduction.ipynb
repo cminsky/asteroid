{
 "cells": [
  {
   "cell_type": "code",
   "execution_count": 21,
   "metadata": {
    "collapsed": false
   },
   "outputs": [],
   "source": [
    "from astropy.io import fits\n",
    "import numpy as np"
   ]
  },
  {
   "cell_type": "code",
   "execution_count": 22,
   "metadata": {
    "collapsed": true
   },
   "outputs": [],
   "source": [
    "def stackFits(fileName,startNum,stopNum,nameOnly=False):\n",
    "    fileList = []\n",
    "    nFill = max([len(str(startNum)),len(str(stopNum))])\n",
    "    for n in range(startNum,stopNum+1):\n",
    "        nName = fileName % str(n).zfill(nFill)\n",
    "        try:\n",
    "            file = fits.getdata(nName)\n",
    "            if nameOnly:\n",
    "                fileList.append(nName)\n",
    "            else:\n",
    "                fileList.append(file)\n",
    "        except FileNotFoundError:\n",
    "            pass\n",
    "    if len(fileList) != stopNum-startNum+1:\n",
    "        print(str(len(fileList))+'/'+str(stopNum-startNum+1),'files stacked')\n",
    "    return fileList"
   ]
  },
  {
   "cell_type": "code",
   "execution_count": 23,
   "metadata": {
    "collapsed": true
   },
   "outputs": [],
   "source": [
    "def medianFits(fileName,startNum,stopNum):\n",
    "    stack = stackFits(fileName,startNum,stopNum)\n",
    "    medianStack = np.median(stack,axis=0)\n",
    "    return medianStack"
   ]
  },
  {
   "cell_type": "code",
   "execution_count": 36,
   "metadata": {
    "collapsed": true
   },
   "outputs": [],
   "source": [
    "def calibrate(fileList,medianBias,medianDark,medianFlat):\n",
    "    alreadyCalibrated = []\n",
    "    newCalibrations = []\n",
    "\n",
    "    for file in fileList:\n",
    "        newFileName = file[-37:]\n",
    "        data,header = fits.getdata(file,header=True)\n",
    "        data = (data - medianBias - medianDark) / medianFlat\n",
    "        hdu = fits.PrimaryHDU(data,header=header)\n",
    "        try:\n",
    "            hdu.writeto('Data/Calibrated/r' + newFileName)\n",
    "            newCalibrations.append('r'+newFileName)\n",
    "        except OSError:\n",
    "            alreadyCalibrated.append('r'+fileName)\n",
    "        \n",
    "    print(\"Successfully calibrated:\",len(newCalibrations),\"of\",len(fileList))\n",
    "    print(\"Already calibrated:\",len(alreadyCalibrated),\"of\",len(fileList))"
   ]
  },
  {
   "cell_type": "markdown",
   "metadata": {},
   "source": [
    "### October 12"
   ]
  },
  {
   "cell_type": "code",
   "execution_count": 25,
   "metadata": {
    "collapsed": false
   },
   "outputs": [],
   "source": [
    "biasName = 'Data/Uncalibrated/20181012p3/lux-180.000secs.Bias.Open.000000%s.fit'\n",
    "medianBias = medianFits(biasName,46,55)"
   ]
  },
  {
   "cell_type": "code",
   "execution_count": 26,
   "metadata": {
    "collapsed": true
   },
   "outputs": [],
   "source": [
    "darkName = 'Data/Uncalibrated/20181012p3/lux-180.000secs.Dark.Open.000000%s.fit'\n",
    "medianDark = medianFits(darkName,41,45)\n",
    "medianDark -= medianBias"
   ]
  },
  {
   "cell_type": "code",
   "execution_count": 27,
   "metadata": {
    "collapsed": true
   },
   "outputs": [],
   "source": [
    "medianFlat = fits.getdata('Data/Flats/p3/openflat-1005-1x1.fit')"
   ]
  },
  {
   "cell_type": "code",
   "execution_count": 28,
   "metadata": {
    "collapsed": false
   },
   "outputs": [],
   "source": [
    "fileName = 'Data/Uncalibrated/20181012p3/lux-180.000secs.Light.Open.000000%s.fit'\n",
    "imgList = stackFits(fileName,15,38,nameOnly=True)"
   ]
  },
  {
   "cell_type": "code",
   "execution_count": 34,
   "metadata": {
    "collapsed": false
   },
   "outputs": [
    {
     "name": "stdout",
     "output_type": "stream",
     "text": [
      "Successfully calibrated: 24 of 24\n",
      "Already calibrated: 0 of 24\n"
     ]
    }
   ],
   "source": [
    "calibrate(imgList,medianBias,medianDark,medianFlat)"
   ]
  },
  {
   "cell_type": "markdown",
   "metadata": {},
   "source": [
    "### October 17"
   ]
  },
  {
   "cell_type": "code",
   "execution_count": 38,
   "metadata": {
    "collapsed": false
   },
   "outputs": [],
   "source": [
    "biasName = 'Data/Uncalibrated/20181017p3/a-180.000secs.Bias.Open.00000%s.fit'\n",
    "medianBias = medianFits(biasName,206,215)"
   ]
  },
  {
   "cell_type": "code",
   "execution_count": 39,
   "metadata": {
    "collapsed": false
   },
   "outputs": [],
   "source": [
    "darkName = 'Data/Uncalibrated/20181017p3/a-240.000secs.Dark.Open.000000%s.fit'\n",
    "medianDark = medianFits(darkName,36,38)\n",
    "medianDark -= medianBias"
   ]
  },
  {
   "cell_type": "code",
   "execution_count": 40,
   "metadata": {
    "collapsed": false
   },
   "outputs": [],
   "source": [
    "medianFlat = fits.getdata('Data/Flats/p3/openflat-1005-1x1.fit')"
   ]
  },
  {
   "cell_type": "code",
   "execution_count": 41,
   "metadata": {
    "collapsed": false
   },
   "outputs": [
    {
     "name": "stdout",
     "output_type": "stream",
     "text": [
      "22/24 files stacked\n"
     ]
    }
   ],
   "source": [
    "fileName = 'Data/Uncalibrated/20181017p3/a-240.000secs.Light.Open.000000%s.fit'\n",
    "imgList = stackFits(fileName,12,35,nameOnly=True)"
   ]
  },
  {
   "cell_type": "code",
   "execution_count": 42,
   "metadata": {
    "collapsed": false
   },
   "outputs": [
    {
     "name": "stdout",
     "output_type": "stream",
     "text": [
      "Successfully calibrated: 22 of 22\n",
      "Already calibrated: 0 of 22\n"
     ]
    }
   ],
   "source": [
    "calibrate(imgList,medianBias,medianDark,medianFlat)"
   ]
  }
 ],
 "metadata": {
  "anaconda-cloud": {},
  "kernelspec": {
   "display_name": "Python [conda root]",
   "language": "python",
   "name": "conda-root-py"
  },
  "language_info": {
   "codemirror_mode": {
    "name": "ipython",
    "version": 3
   },
   "file_extension": ".py",
   "mimetype": "text/x-python",
   "name": "python",
   "nbconvert_exporter": "python",
   "pygments_lexer": "ipython3",
   "version": "3.5.2"
  }
 },
 "nbformat": 4,
 "nbformat_minor": 1
}
